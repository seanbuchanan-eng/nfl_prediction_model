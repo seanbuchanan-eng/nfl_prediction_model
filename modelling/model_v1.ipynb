{
 "cells": [
  {
   "cell_type": "markdown",
   "metadata": {},
   "source": [
    "# Model Development\n",
    "\n",
    "This notebook contains the work done to create and fit a NN for nfl game spread prediction. The model takes in the difference in average values looking back 14 games between two teams for elo, points, yards, turnovers, and the Elo Model predicted spread for that game. Essentially, the model is correcting the Elo prediction based on past elo, points, yards, and turnovers. "
   ]
  },
  {
   "cell_type": "code",
   "execution_count": null,
   "metadata": {},
   "outputs": [],
   "source": [
    "import os\n",
    "import sqlite3\n",
    "import numpy as np\n",
    "import pandas as pd\n",
    "import matplotlib.pyplot as plt\n",
    "import torch\n",
    "from torch import nn\n",
    "from torch.utils.data import Dataset, DataLoader, random_split"
   ]
  },
  {
   "cell_type": "code",
   "execution_count": 2,
   "metadata": {},
   "outputs": [],
   "source": [
    "conn = sqlite3.connect('../db.sqlite')\n",
    "cur = conn.cursor()\n",
    "\n",
    "# get data by joining game and mldata tables\n",
    "games = cur.execute(\"\"\"\n",
    "                    SELECT Games.home_points, Games.away_points,\n",
    "                    Games.home_pregame_elo, Games.away_pregame_elo, MLData.*\n",
    "                    FROM Games JOIN MLData on Games.id = MLData.game_id\"\"\").fetchall()\n",
    "conn.close()"
   ]
  },
  {
   "cell_type": "code",
   "execution_count": 4,
   "metadata": {},
   "outputs": [],
   "source": [
    "# only the most previous 6 games in the average\n",
    "games_df = pd.DataFrame(games)\n",
    "games_df[\"error\"] = games_df.iloc[:,1] - games_df.iloc[:,0] - round((games_df.iloc[:,3] - games_df.iloc[:,2])/25)\n",
    "games_df[\"home_point_diff\"] = games_df.iloc[:,42:49].mean(axis=1) - games_df.iloc[:,56:63].mean(axis=1)\n",
    "games_df[\"away_point_diff\"] = games_df.iloc[:,155:162].mean(axis=1) - games_df.iloc[:,169:176].mean(axis=1)\n",
    "games_df[\"point_diff_diff\"] = games_df[\"home_point_diff\"] - games_df[\"away_point_diff\"]\n",
    "games_df[\"home_turnover_diff\"] = games_df.iloc[:,98:105].mean(axis=1) - games_df.iloc[:,112:119].mean(axis=1)\n",
    "games_df[\"away_turnover_diff\"] = games_df.iloc[:,211:218].mean(axis=1) - games_df.iloc[:,225:232].mean(axis=1)\n",
    "games_df[\"turnover_diff_diff\"] = games_df[\"home_turnover_diff\"] - games_df[\"away_turnover_diff\"]\n",
    "games_df[\"home_yard_diff\"] = games_df.iloc[:,70:77].mean(axis=1) - games_df.iloc[:,84:91].mean(axis=1)\n",
    "games_df[\"away_yard_diff\"] = games_df.iloc[:,183:190].mean(axis=1) - games_df.iloc[:,197:204].mean(axis=1)\n",
    "games_df[\"yard_diff_diff\"] = games_df[\"home_yard_diff\"] - games_df[\"away_yard_diff\"]\n",
    "games_df[\"home_elo_diff\"] = games_df.iloc[:,14:21].mean(axis=1) - games_df.iloc[:,28:35].mean(axis=1)\n",
    "games_df[\"away_elo_diff\"] = games_df.iloc[:,127:134].mean(axis=1) - games_df.iloc[:,141:148].mean(axis=1)\n",
    "games_df[\"elo_diff_diff\"] = games_df[\"home_elo_diff\"] - games_df[\"away_elo_diff\"]\n",
    "games_df[\"pred_spread\"] = (games_df.iloc[:, 3] - games_df.iloc[:, 2])/25\n",
    "games_final = games_df"
   ]
  },
  {
   "cell_type": "code",
   "execution_count": 25,
   "metadata": {},
   "outputs": [],
   "source": [
    "# all 14 previous games\n",
    "games_df = pd.DataFrame(games)\n",
    "games_df[\"error\"] = games_df.iloc[:,1] - games_df.iloc[:,0] - round((games_df.iloc[:,3] - games_df.iloc[:,2])/25)\n",
    "games_df[\"home_point_diff\"] = games_df.iloc[:,35:49].mean(axis=1) - games_df.iloc[:,49:63].mean(axis=1)\n",
    "games_df[\"away_point_diff\"] = games_df.iloc[:,148:162].mean(axis=1) - games_df.iloc[:,162:176].mean(axis=1)\n",
    "games_df[\"point_diff_diff\"] = games_df[\"home_point_diff\"] - games_df[\"away_point_diff\"]\n",
    "games_df[\"home_turnover_diff\"] = games_df.iloc[:,91:105].mean(axis=1) - games_df.iloc[:,105:119].mean(axis=1)\n",
    "games_df[\"away_turnover_diff\"] = games_df.iloc[:,204:218].mean(axis=1) - games_df.iloc[:,218:232].mean(axis=1)\n",
    "games_df[\"turnover_diff_diff\"] = games_df[\"home_turnover_diff\"] - games_df[\"away_turnover_diff\"]\n",
    "games_df[\"home_yard_diff\"] = games_df.iloc[:,63:77].mean(axis=1) - games_df.iloc[:,77:91].mean(axis=1)\n",
    "games_df[\"away_yard_diff\"] = games_df.iloc[:,176:190].mean(axis=1) - games_df.iloc[:,190:204].mean(axis=1)\n",
    "games_df[\"yard_diff_diff\"] = games_df[\"home_yard_diff\"] - games_df[\"away_yard_diff\"]\n",
    "games_df[\"home_elo_diff\"] = games_df.iloc[:,7:21].mean(axis=1) - games_df.iloc[:,21:35].mean(axis=1)\n",
    "games_df[\"away_elo_diff\"] = games_df.iloc[:,120:134].mean(axis=1) - games_df.iloc[:,134:148].mean(axis=1)\n",
    "games_df[\"elo_diff_diff\"] = games_df[\"home_elo_diff\"] - games_df[\"away_elo_diff\"]\n",
    "games_df[\"pred_spread\"] = (games_df.iloc[:, 3] - games_df.iloc[:, 2])/25\n",
    "games_final = games_df"
   ]
  },
  {
   "cell_type": "code",
   "execution_count": 26,
   "metadata": {},
   "outputs": [
    {
     "data": {
      "text/html": [
       "<div>\n",
       "<style scoped>\n",
       "    .dataframe tbody tr th:only-of-type {\n",
       "        vertical-align: middle;\n",
       "    }\n",
       "\n",
       "    .dataframe tbody tr th {\n",
       "        vertical-align: top;\n",
       "    }\n",
       "\n",
       "    .dataframe thead th {\n",
       "        text-align: right;\n",
       "    }\n",
       "</style>\n",
       "<table border=\"1\" class=\"dataframe\">\n",
       "  <thead>\n",
       "    <tr style=\"text-align: right;\">\n",
       "      <th></th>\n",
       "      <th>0</th>\n",
       "      <th>1</th>\n",
       "      <th>2</th>\n",
       "      <th>3</th>\n",
       "      <th>4</th>\n",
       "      <th>5</th>\n",
       "      <th>6</th>\n",
       "      <th>7</th>\n",
       "      <th>8</th>\n",
       "      <th>9</th>\n",
       "      <th>...</th>\n",
       "      <th>home_turnover_diff</th>\n",
       "      <th>away_turnover_diff</th>\n",
       "      <th>turnover_diff_diff</th>\n",
       "      <th>home_yard_diff</th>\n",
       "      <th>away_yard_diff</th>\n",
       "      <th>yard_diff_diff</th>\n",
       "      <th>home_elo_diff</th>\n",
       "      <th>away_elo_diff</th>\n",
       "      <th>elo_diff_diff</th>\n",
       "      <th>pred_spread</th>\n",
       "    </tr>\n",
       "  </thead>\n",
       "  <tbody>\n",
       "    <tr>\n",
       "      <th>0</th>\n",
       "      <td>42</td>\n",
       "      <td>34</td>\n",
       "      <td>1531</td>\n",
       "      <td>1479</td>\n",
       "      <td>1</td>\n",
       "      <td>268</td>\n",
       "      <td>1531</td>\n",
       "      <td>1480</td>\n",
       "      <td>1529</td>\n",
       "      <td>1561</td>\n",
       "      <td>...</td>\n",
       "      <td>0.500000</td>\n",
       "      <td>-0.500000</td>\n",
       "      <td>1.000000</td>\n",
       "      <td>-3.500000</td>\n",
       "      <td>2.785714</td>\n",
       "      <td>-6.285714</td>\n",
       "      <td>43.357143</td>\n",
       "      <td>16.142857</td>\n",
       "      <td>27.214286</td>\n",
       "      <td>-2.08</td>\n",
       "    </tr>\n",
       "    <tr>\n",
       "      <th>1</th>\n",
       "      <td>13</td>\n",
       "      <td>31</td>\n",
       "      <td>1534</td>\n",
       "      <td>1476</td>\n",
       "      <td>2</td>\n",
       "      <td>269</td>\n",
       "      <td>1534</td>\n",
       "      <td>1530</td>\n",
       "      <td>1475</td>\n",
       "      <td>1505</td>\n",
       "      <td>...</td>\n",
       "      <td>0.285714</td>\n",
       "      <td>0.000000</td>\n",
       "      <td>0.285714</td>\n",
       "      <td>9.357143</td>\n",
       "      <td>-2.785714</td>\n",
       "      <td>12.142857</td>\n",
       "      <td>2.857143</td>\n",
       "      <td>22.500000</td>\n",
       "      <td>-19.642857</td>\n",
       "      <td>-2.32</td>\n",
       "    </tr>\n",
       "    <tr>\n",
       "      <th>2</th>\n",
       "      <td>34</td>\n",
       "      <td>7</td>\n",
       "      <td>1531</td>\n",
       "      <td>1479</td>\n",
       "      <td>3</td>\n",
       "      <td>270</td>\n",
       "      <td>1531</td>\n",
       "      <td>1531</td>\n",
       "      <td>1573</td>\n",
       "      <td>1565</td>\n",
       "      <td>...</td>\n",
       "      <td>0.000000</td>\n",
       "      <td>0.428571</td>\n",
       "      <td>-0.428571</td>\n",
       "      <td>10.285714</td>\n",
       "      <td>17.857143</td>\n",
       "      <td>-7.571429</td>\n",
       "      <td>38.785714</td>\n",
       "      <td>15.642857</td>\n",
       "      <td>23.142857</td>\n",
       "      <td>-2.08</td>\n",
       "    </tr>\n",
       "    <tr>\n",
       "      <th>3</th>\n",
       "      <td>16</td>\n",
       "      <td>14</td>\n",
       "      <td>1530</td>\n",
       "      <td>1480</td>\n",
       "      <td>4</td>\n",
       "      <td>271</td>\n",
       "      <td>1530</td>\n",
       "      <td>1532</td>\n",
       "      <td>1489</td>\n",
       "      <td>1511</td>\n",
       "      <td>...</td>\n",
       "      <td>0.285714</td>\n",
       "      <td>-1.142857</td>\n",
       "      <td>1.428571</td>\n",
       "      <td>-13.928571</td>\n",
       "      <td>44.000000</td>\n",
       "      <td>-57.928571</td>\n",
       "      <td>17.857143</td>\n",
       "      <td>11.714286</td>\n",
       "      <td>6.142857</td>\n",
       "      <td>-2.00</td>\n",
       "    </tr>\n",
       "    <tr>\n",
       "      <th>4</th>\n",
       "      <td>35</td>\n",
       "      <td>7</td>\n",
       "      <td>1529</td>\n",
       "      <td>1481</td>\n",
       "      <td>5</td>\n",
       "      <td>272</td>\n",
       "      <td>1529</td>\n",
       "      <td>1481</td>\n",
       "      <td>1464</td>\n",
       "      <td>1472</td>\n",
       "      <td>...</td>\n",
       "      <td>-0.071429</td>\n",
       "      <td>0.000000</td>\n",
       "      <td>-0.071429</td>\n",
       "      <td>31.142857</td>\n",
       "      <td>25.714286</td>\n",
       "      <td>5.428571</td>\n",
       "      <td>24.285714</td>\n",
       "      <td>38.785714</td>\n",
       "      <td>-14.500000</td>\n",
       "      <td>-1.92</td>\n",
       "    </tr>\n",
       "    <tr>\n",
       "      <th>...</th>\n",
       "      <td>...</td>\n",
       "      <td>...</td>\n",
       "      <td>...</td>\n",
       "      <td>...</td>\n",
       "      <td>...</td>\n",
       "      <td>...</td>\n",
       "      <td>...</td>\n",
       "      <td>...</td>\n",
       "      <td>...</td>\n",
       "      <td>...</td>\n",
       "      <td>...</td>\n",
       "      <td>...</td>\n",
       "      <td>...</td>\n",
       "      <td>...</td>\n",
       "      <td>...</td>\n",
       "      <td>...</td>\n",
       "      <td>...</td>\n",
       "      <td>...</td>\n",
       "      <td>...</td>\n",
       "      <td>...</td>\n",
       "      <td>...</td>\n",
       "    </tr>\n",
       "    <tr>\n",
       "      <th>2683</th>\n",
       "      <td>23</td>\n",
       "      <td>34</td>\n",
       "      <td>1523</td>\n",
       "      <td>1585</td>\n",
       "      <td>2684</td>\n",
       "      <td>3444</td>\n",
       "      <td>1523</td>\n",
       "      <td>1612</td>\n",
       "      <td>1479</td>\n",
       "      <td>1487</td>\n",
       "      <td>...</td>\n",
       "      <td>-0.285714</td>\n",
       "      <td>0.214286</td>\n",
       "      <td>-0.500000</td>\n",
       "      <td>23.071429</td>\n",
       "      <td>34.642857</td>\n",
       "      <td>-11.571429</td>\n",
       "      <td>27.214286</td>\n",
       "      <td>-1.571429</td>\n",
       "      <td>28.785714</td>\n",
       "      <td>2.48</td>\n",
       "    </tr>\n",
       "    <tr>\n",
       "      <th>2684</th>\n",
       "      <td>17</td>\n",
       "      <td>14</td>\n",
       "      <td>1492</td>\n",
       "      <td>1455</td>\n",
       "      <td>2685</td>\n",
       "      <td>3445</td>\n",
       "      <td>1492</td>\n",
       "      <td>1605</td>\n",
       "      <td>1529</td>\n",
       "      <td>1517</td>\n",
       "      <td>...</td>\n",
       "      <td>0.285714</td>\n",
       "      <td>-0.428571</td>\n",
       "      <td>0.714286</td>\n",
       "      <td>-7.214286</td>\n",
       "      <td>-52.500000</td>\n",
       "      <td>45.285714</td>\n",
       "      <td>-23.714286</td>\n",
       "      <td>16.428571</td>\n",
       "      <td>-40.142857</td>\n",
       "      <td>-1.48</td>\n",
       "    </tr>\n",
       "    <tr>\n",
       "      <th>2685</th>\n",
       "      <td>12</td>\n",
       "      <td>20</td>\n",
       "      <td>1544</td>\n",
       "      <td>1511</td>\n",
       "      <td>2686</td>\n",
       "      <td>3446</td>\n",
       "      <td>1544</td>\n",
       "      <td>1458</td>\n",
       "      <td>1530</td>\n",
       "      <td>1521</td>\n",
       "      <td>...</td>\n",
       "      <td>0.142857</td>\n",
       "      <td>-0.071429</td>\n",
       "      <td>0.214286</td>\n",
       "      <td>-0.571429</td>\n",
       "      <td>-36.857143</td>\n",
       "      <td>36.285714</td>\n",
       "      <td>-27.357143</td>\n",
       "      <td>20.285714</td>\n",
       "      <td>-47.642857</td>\n",
       "      <td>-1.32</td>\n",
       "    </tr>\n",
       "    <tr>\n",
       "      <th>2686</th>\n",
       "      <td>30</td>\n",
       "      <td>24</td>\n",
       "      <td>1455</td>\n",
       "      <td>1504</td>\n",
       "      <td>2687</td>\n",
       "      <td>3447</td>\n",
       "      <td>1455</td>\n",
       "      <td>1438</td>\n",
       "      <td>1481</td>\n",
       "      <td>1490</td>\n",
       "      <td>...</td>\n",
       "      <td>-0.357143</td>\n",
       "      <td>0.142857</td>\n",
       "      <td>-0.500000</td>\n",
       "      <td>3.714286</td>\n",
       "      <td>12.928571</td>\n",
       "      <td>-9.214286</td>\n",
       "      <td>-39.714286</td>\n",
       "      <td>-27.000000</td>\n",
       "      <td>-12.714286</td>\n",
       "      <td>1.96</td>\n",
       "    </tr>\n",
       "    <tr>\n",
       "      <th>2687</th>\n",
       "      <td>24</td>\n",
       "      <td>12</td>\n",
       "      <td>1457</td>\n",
       "      <td>1412</td>\n",
       "      <td>2688</td>\n",
       "      <td>3448</td>\n",
       "      <td>1457</td>\n",
       "      <td>1586</td>\n",
       "      <td>1480</td>\n",
       "      <td>1480</td>\n",
       "      <td>...</td>\n",
       "      <td>-0.142857</td>\n",
       "      <td>-0.428571</td>\n",
       "      <td>0.285714</td>\n",
       "      <td>-2.500000</td>\n",
       "      <td>-35.714286</td>\n",
       "      <td>33.214286</td>\n",
       "      <td>-26.857143</td>\n",
       "      <td>1.285714</td>\n",
       "      <td>-28.142857</td>\n",
       "      <td>-1.80</td>\n",
       "    </tr>\n",
       "  </tbody>\n",
       "</table>\n",
       "<p>2688 rows × 247 columns</p>\n",
       "</div>"
      ],
      "text/plain": [
       "       0   1     2     3     4     5     6     7     8     9  ...  \\\n",
       "0     42  34  1531  1479     1   268  1531  1480  1529  1561  ...   \n",
       "1     13  31  1534  1476     2   269  1534  1530  1475  1505  ...   \n",
       "2     34   7  1531  1479     3   270  1531  1531  1573  1565  ...   \n",
       "3     16  14  1530  1480     4   271  1530  1532  1489  1511  ...   \n",
       "4     35   7  1529  1481     5   272  1529  1481  1464  1472  ...   \n",
       "...   ..  ..   ...   ...   ...   ...   ...   ...   ...   ...  ...   \n",
       "2683  23  34  1523  1585  2684  3444  1523  1612  1479  1487  ...   \n",
       "2684  17  14  1492  1455  2685  3445  1492  1605  1529  1517  ...   \n",
       "2685  12  20  1544  1511  2686  3446  1544  1458  1530  1521  ...   \n",
       "2686  30  24  1455  1504  2687  3447  1455  1438  1481  1490  ...   \n",
       "2687  24  12  1457  1412  2688  3448  1457  1586  1480  1480  ...   \n",
       "\n",
       "      home_turnover_diff  away_turnover_diff  turnover_diff_diff  \\\n",
       "0               0.500000           -0.500000            1.000000   \n",
       "1               0.285714            0.000000            0.285714   \n",
       "2               0.000000            0.428571           -0.428571   \n",
       "3               0.285714           -1.142857            1.428571   \n",
       "4              -0.071429            0.000000           -0.071429   \n",
       "...                  ...                 ...                 ...   \n",
       "2683           -0.285714            0.214286           -0.500000   \n",
       "2684            0.285714           -0.428571            0.714286   \n",
       "2685            0.142857           -0.071429            0.214286   \n",
       "2686           -0.357143            0.142857           -0.500000   \n",
       "2687           -0.142857           -0.428571            0.285714   \n",
       "\n",
       "      home_yard_diff  away_yard_diff  yard_diff_diff  home_elo_diff  \\\n",
       "0          -3.500000        2.785714       -6.285714      43.357143   \n",
       "1           9.357143       -2.785714       12.142857       2.857143   \n",
       "2          10.285714       17.857143       -7.571429      38.785714   \n",
       "3         -13.928571       44.000000      -57.928571      17.857143   \n",
       "4          31.142857       25.714286        5.428571      24.285714   \n",
       "...              ...             ...             ...            ...   \n",
       "2683       23.071429       34.642857      -11.571429      27.214286   \n",
       "2684       -7.214286      -52.500000       45.285714     -23.714286   \n",
       "2685       -0.571429      -36.857143       36.285714     -27.357143   \n",
       "2686        3.714286       12.928571       -9.214286     -39.714286   \n",
       "2687       -2.500000      -35.714286       33.214286     -26.857143   \n",
       "\n",
       "      away_elo_diff  elo_diff_diff  pred_spread  \n",
       "0         16.142857      27.214286        -2.08  \n",
       "1         22.500000     -19.642857        -2.32  \n",
       "2         15.642857      23.142857        -2.08  \n",
       "3         11.714286       6.142857        -2.00  \n",
       "4         38.785714     -14.500000        -1.92  \n",
       "...             ...            ...          ...  \n",
       "2683      -1.571429      28.785714         2.48  \n",
       "2684      16.428571     -40.142857        -1.48  \n",
       "2685      20.285714     -47.642857        -1.32  \n",
       "2686     -27.000000     -12.714286         1.96  \n",
       "2687       1.285714     -28.142857        -1.80  \n",
       "\n",
       "[2688 rows x 247 columns]"
      ]
     },
     "execution_count": 26,
     "metadata": {},
     "output_type": "execute_result"
    }
   ],
   "source": [
    "games_final"
   ]
  },
  {
   "cell_type": "markdown",
   "metadata": {},
   "source": [
    "# Format Data into PyTorch Data Objects"
   ]
  },
  {
   "cell_type": "code",
   "execution_count": 27,
   "metadata": {},
   "outputs": [],
   "source": [
    "class GameDataset(Dataset):\n",
    "    def __init__(self, games, transform=None, target_transform=None):\n",
    "        self.labels = (games.iloc[:, 1] - games.iloc[:, 0]).to_numpy()\n",
    "        self.input = games[[\"elo_diff_diff\",\"point_diff_diff\",\"yard_diff_diff\",\"turnover_diff_diff\",\"pred_spread\"]].to_numpy()\n",
    "        self.transform = transform\n",
    "        self.target_transform = target_transform\n",
    "\n",
    "    def __len__(self):\n",
    "        return len(self.labels)\n",
    "    \n",
    "    def __getitem__(self, index):\n",
    "        label = self.labels[index:index+1]\n",
    "        model_input = self.input[index]\n",
    "        if self.transform:\n",
    "            model_input = self.transform(model_input, dtype=torch.float32)\n",
    "        if self.target_transform:\n",
    "            label = self.target_transform(label, dtype=torch.float32)\n",
    "        return model_input, label\n",
    "    \n",
    "dataset = GameDataset(games_final, torch.tensor, torch.tensor)\n",
    "gen1 = torch.Generator().manual_seed(42)\n",
    "train, test = random_split(dataset, [0.7, 0.3], generator=gen1)\n",
    "\n",
    "train_dataloader = DataLoader(train, batch_size=64, shuffle=True)\n",
    "test_dataloader = DataLoader(test, batch_size=64, shuffle=True)"
   ]
  },
  {
   "cell_type": "code",
   "execution_count": 28,
   "metadata": {},
   "outputs": [],
   "source": [
    "test_input = torch.tensor(games_final[[\"elo_diff_diff\",\"point_diff_diff\",\"yard_diff_diff\",\"turnover_diff_diff\",\"pred_spread\"]].to_numpy()[0],\n",
    "                          dtype=torch.float32)"
   ]
  },
  {
   "cell_type": "code",
   "execution_count": 29,
   "metadata": {},
   "outputs": [
    {
     "data": {
      "text/plain": [
       "tensor([27.2143,  6.3571, -6.2857,  1.0000, -2.0800])"
      ]
     },
     "execution_count": 29,
     "metadata": {},
     "output_type": "execute_result"
    }
   ],
   "source": [
    "test_input"
   ]
  },
  {
   "cell_type": "markdown",
   "metadata": {},
   "source": [
    "# Build and Train the Network\n",
    "\n",
    "The NN built is a simple single hidden layer model with 5 inputs, 5 hidden neurons, and a ReLu activation function. Larger Models were tested, along with normalization and no normalization, and different activation functions, learning rates, and loss functions. However, all other models tended to either overfit or underperform. This is likely due to the input data not providing a lot of additional information to the model. It is believed that adding quaterback and key player statistics to the input will improve the model."
   ]
  },
  {
   "cell_type": "code",
   "execution_count": 30,
   "metadata": {},
   "outputs": [
    {
     "name": "stdout",
     "output_type": "stream",
     "text": [
      "Using cpu device\n"
     ]
    }
   ],
   "source": [
    "device = (\n",
    "    \"cuda\"\n",
    "    if torch.cuda.is_available()\n",
    "    else \"mps\"\n",
    "    if torch.backends.mps.is_available()\n",
    "    else \"cpu\"\n",
    ")\n",
    "print(f\"Using {device} device\")\n",
    "\n",
    "# build the network\n",
    "class NeuralNetwork(nn.Module):\n",
    "    def __init__(self):\n",
    "        super().__init__()\n",
    "        self.linear_relu_stack = nn.Sequential(\n",
    "            nn.Linear(5, 5),\n",
    "            nn.ReLU(),\n",
    "            nn.Linear(5, 1),\n",
    "        )\n",
    "\n",
    "    def forward(self, x):\n",
    "        output = self.linear_relu_stack(x)\n",
    "        return output"
   ]
  },
  {
   "cell_type": "code",
   "execution_count": 31,
   "metadata": {},
   "outputs": [],
   "source": [
    "def train_loop(dataloader, model, loss_fn, optimizer):\n",
    "    loss_arr = []\n",
    "    size = len(dataloader.dataset)\n",
    "    model.train()\n",
    "    for batch, (X, y) in enumerate(dataloader):\n",
    "        pred = model(X)\n",
    "        loss = loss_fn(pred, y)\n",
    "\n",
    "        # backpropogate\n",
    "        optimizer.zero_grad()\n",
    "        loss.backward()\n",
    "        optimizer.step()\n",
    "\n",
    "        loss_arr.append(loss.item())\n",
    "\n",
    "    return np.mean(loss_arr)\n",
    "\n",
    "def test_loop(dataloader, model, loss_fn):\n",
    "\n",
    "    model.eval()\n",
    "    size = len(dataloader.dataset)\n",
    "    num_batches = len(dataloader)\n",
    "    test_loss, correct = 0, 0\n",
    "    loss = []\n",
    "    with torch.no_grad():\n",
    "        for X, y in dataloader:\n",
    "            pred = model(X)\n",
    "            test_loss = loss_fn(pred, y).item()\n",
    "            correct += (pred.argmax(1) == y).type(torch.float).sum().item()\n",
    "            loss.append(test_loss)\n",
    "\n",
    "    return np.mean(loss)"
   ]
  },
  {
   "cell_type": "code",
   "execution_count": 32,
   "metadata": {},
   "outputs": [],
   "source": [
    "model = NeuralNetwork()\n",
    "learning_rate = 1e-3\n",
    "batch_size = 64\n",
    "epochs = 60\n",
    "loss_fn = nn.SmoothL1Loss()\n",
    "optimizer = torch.optim.Adam(model.parameters(), lr=learning_rate)"
   ]
  },
  {
   "cell_type": "code",
   "execution_count": 33,
   "metadata": {},
   "outputs": [],
   "source": [
    "loss = []\n",
    "val_loss = []\n",
    "for t in range(epochs):\n",
    "    loss.append(train_loop(train_dataloader, model, loss_fn, optimizer))\n",
    "    val_loss.append(test_loop(test_dataloader, model, loss_fn))"
   ]
  },
  {
   "cell_type": "code",
   "execution_count": 34,
   "metadata": {},
   "outputs": [
    {
     "data": {
      "image/png": "[encoded data removed]",
      "text/plain": [
       "<Figure size 640x480 with 1 Axes>"
      ]
     },
     "metadata": {},
     "output_type": "display_data"
    }
   ],
   "source": [
    "%matplotlib inline\n",
    "plt.clf()\n",
    "plt.plot(loss)\n",
    "plt.plot(val_loss);\n",
    "plt.show()"
   ]
  },
  {
   "cell_type": "code",
   "execution_count": 38,
   "metadata": {},
   "outputs": [
    {
     "data": {
      "text/plain": [
       "-0.6443452380952381"
      ]
     },
     "execution_count": 38,
     "metadata": {},
     "output_type": "execute_result"
    }
   ],
   "source": [
    "games_df[\"error\"].mean()"
   ]
  },
  {
   "cell_type": "code",
   "execution_count": 35,
   "metadata": {},
   "outputs": [],
   "source": [
    "actual = np.array([])\n",
    "predicted = np.array([])\n",
    "elo_pred = np.array([])\n",
    "model.eval()\n",
    "for feature, label in test_dataloader:\n",
    "    # predicted = np.concatenate((predicted, model(feature).detach().numpy().ravel()))\n",
    "    predicted = np.concatenate((predicted, \n",
    "                                model(feature).detach().numpy().ravel()))\n",
    "    actual = np.concatenate((actual, label.detach().numpy().ravel()))\n",
    "    elo_pred = np.concatenate((elo_pred, feature[:,-1].detach().numpy().ravel()))"
   ]
  },
  {
   "cell_type": "code",
   "execution_count": 36,
   "metadata": {},
   "outputs": [
    {
     "data": {
      "image/png": "[encoded data removed]",
      "text/plain": [
       "<Figure size 640x480 with 1 Axes>"
      ]
     },
     "metadata": {},
     "output_type": "display_data"
    }
   ],
   "source": [
    "%matplotlib inline\n",
    "plt.clf()\n",
    "# plt.plot(actual, label='actual')\n",
    "plt.plot(elo_pred - actual, label='elo_pred')\n",
    "plt.plot(predicted - actual, label='pred', alpha=0.5)\n",
    "plt.legend()\n",
    "plt.show()"
   ]
  },
  {
   "cell_type": "code",
   "execution_count": 37,
   "metadata": {},
   "outputs": [
    {
     "name": "stdout",
     "output_type": "stream",
     "text": [
      "10.573598013492878\n",
      "10.381246410846414\n"
     ]
    }
   ],
   "source": [
    "print(np.mean(np.abs(elo_pred - actual)))\n",
    "print(np.mean(np.abs(predicted - actual)))"
   ]
  },
  {
   "cell_type": "markdown",
   "metadata": {},
   "source": [
    "Here we see that the model only improves the Elo model by about a quarter of a point. This suggests that including it in the website is nonsensical, however, doing so provides the opportunity to improve the model without making too many changes to the website architecture."
   ]
  },
  {
   "cell_type": "code",
   "execution_count": 38,
   "metadata": {},
   "outputs": [],
   "source": [
    "torch.save(model.state_dict(), '../models/v1.pth')"
   ]
  },
  {
   "cell_type": "markdown",
   "metadata": {},
   "source": [
    "# Misc"
   ]
  },
  {
   "cell_type": "code",
   "execution_count": 63,
   "metadata": {},
   "outputs": [
    {
     "name": "stdout",
     "output_type": "stream",
     "text": [
      "Feature batch shape: torch.Size([64, 5])\n",
      "Labels batch shape: torch.Size([64, 1])\n",
      "input_data: tensor([[-51.4286, -10.3571,  22.6429,  -1.2143,   1.5600]])\n",
      "Label: tensor([7.])\n",
      "pred: tensor([[3.6056]], grad_fn=<AddmmBackward0>)\n"
     ]
    }
   ],
   "source": [
    "train_features, train_labels = next(iter(test_dataloader))\n",
    "print(f\"Feature batch shape: {train_features.size()}\")\n",
    "print(f\"Labels batch shape: {train_labels.size()}\")\n",
    "input_data = train_features[0:1]\n",
    "label = train_labels[0]\n",
    "print(f\"input_data: {input_data}\")\n",
    "print(f\"Label: {label}\")\n",
    "pred = model(input_data)\n",
    "print(f\"pred: {pred}\")"
   ]
  },
  {
   "cell_type": "code",
   "execution_count": 11,
   "metadata": {},
   "outputs": [
    {
     "data": {
      "text/plain": [
       "NeuralNetwork(\n",
       "  (linear_relu_stack): Sequential(\n",
       "    (0): Linear(in_features=5, out_features=100, bias=True)\n",
       "    (1): ReLU()\n",
       "    (2): Linear(in_features=100, out_features=100, bias=True)\n",
       "    (3): ReLU()\n",
       "    (4): Linear(in_features=100, out_features=100, bias=True)\n",
       "    (5): ReLU()\n",
       "    (6): Linear(in_features=100, out_features=1, bias=True)\n",
       "  )\n",
       ")"
      ]
     },
     "execution_count": 11,
     "metadata": {},
     "output_type": "execute_result"
    }
   ],
   "source": [
    "model = NeuralNetwork()\n",
    "model.load_state_dict(torch.load('../models/v1.pth'))\n",
    "model.eval()"
   ]
  },
  {
   "cell_type": "code",
   "execution_count": 12,
   "metadata": {},
   "outputs": [
    {
     "data": {
      "text/plain": [
       "tensor([-4.2387], grad_fn=<AddBackward0>)"
      ]
     },
     "execution_count": 12,
     "metadata": {},
     "output_type": "execute_result"
    }
   ],
   "source": [
    "model(test_input)"
   ]
  }
 ],
 "metadata": {
  "kernelspec": {
   "display_name": "nfl_prediction_model",
   "language": "python",
   "name": "python3"
  },
  "language_info": {
   "codemirror_mode": {
    "name": "ipython",
    "version": 3
   },
   "file_extension": ".py",
   "mimetype": "text/x-python",
   "name": "python",
   "nbconvert_exporter": "python",
   "pygments_lexer": "ipython3",
   "version": "3.10.9"
  },
  "orig_nbformat": 4
 },
 "nbformat": 4,
 "nbformat_minor": 2
}
